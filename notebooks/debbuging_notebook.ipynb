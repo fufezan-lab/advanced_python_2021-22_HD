{
 "cells": [
  {
   "cell_type": "code",
   "execution_count": null,
   "metadata": {},
   "outputs": [],
   "source": [
    "import sys\n",
    "from pathlib import Path\n",
    "import numpy as np\n",
    "# -------- START of inconvenient addon block --------\n",
    "# This block is not necessary if you have installed your package\n",
    "# using e.g. pip install -e (requires setup.py)\n",
    "# or have a symbolic link in your sitepackages (my preferend way)\n",
    "sys.path.append(\n",
    "    str(Path(__file__).parent.parent.resolve())\n",
    ")\n",
    "# It make import peak_finder possible\n",
    "# This is a demo hack for the course :)\n",
    "# --------  END of inconvenient addon block  --------\n",
    "\n",
    "from protein_object.protein_basic import Protein\n",
    "\n",
    "\n",
    "\n",
    "def test_protein_list_MGÖÄL():\n",
    "    protein = Protein(\"MGÖÄL_test copy.fasta\")\n",
    "    protein_list = protein.get_property_list()\n",
    "    print(protein_list)\n",
    "    assert protein_list == [1.9, -0.4, np.nan, np.nan, 3.8]\n",
    "\n",
    "def test_protein_plot_MGÖÄL():\n",
    "    protein = Protein(\"MGÖÄL_test copy.fasta\")\n",
    "    plot = protein.plot(window_size=1)\n",
    "    plot.show()\n",
    "    assert not plot is None\n",
    "\n",
    "def test_protein_plot_1():\n",
    "    protein = Protein(\"1_test.fasta\")\n",
    "    plot = protein.plot()\n",
    "    plot.show()\n",
    "    assert not plot is None\n",
    "\n",
    "test_protein_plot_MGÖÄL()"
   ]
  }
 ],
 "metadata": {
  "language_info": {
   "name": "python"
  },
  "orig_nbformat": 4
 },
 "nbformat": 4,
 "nbformat_minor": 2
}
