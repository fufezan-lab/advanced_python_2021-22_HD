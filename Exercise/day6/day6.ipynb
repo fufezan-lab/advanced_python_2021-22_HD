{
 "cells": [
  {
   "cell_type": "code",
   "execution_count": 49,
   "metadata": {},
   "outputs": [
    {
     "data": {
      "text/html": [
       "<div>\n",
       "<style scoped>\n",
       "    .dataframe tbody tr th:only-of-type {\n",
       "        vertical-align: middle;\n",
       "    }\n",
       "\n",
       "    .dataframe tbody tr th {\n",
       "        vertical-align: top;\n",
       "    }\n",
       "\n",
       "    .dataframe thead th {\n",
       "        text-align: right;\n",
       "    }\n",
       "</style>\n",
       "<table border=\"1\" class=\"dataframe\">\n",
       "  <thead>\n",
       "    <tr style=\"text-align: right;\">\n",
       "      <th></th>\n",
       "      <th>Species</th>\n",
       "      <th>Owner</th>\n",
       "      <th>Country.of.Origin</th>\n",
       "      <th>Farm.Name</th>\n",
       "      <th>Lot.Number</th>\n",
       "      <th>Mill</th>\n",
       "      <th>ICO.Number</th>\n",
       "      <th>Company</th>\n",
       "      <th>Altitude</th>\n",
       "      <th>Region</th>\n",
       "      <th>...</th>\n",
       "      <th>Color</th>\n",
       "      <th>Category.Two.Defects</th>\n",
       "      <th>Expiration</th>\n",
       "      <th>Certification.Body</th>\n",
       "      <th>Certification.Address</th>\n",
       "      <th>Certification.Contact</th>\n",
       "      <th>unit_of_measurement</th>\n",
       "      <th>altitude_low_meters</th>\n",
       "      <th>altitude_high_meters</th>\n",
       "      <th>altitude_mean_meters</th>\n",
       "    </tr>\n",
       "  </thead>\n",
       "  <tbody>\n",
       "    <tr>\n",
       "      <th>0</th>\n",
       "      <td>Arabica</td>\n",
       "      <td>metad plc</td>\n",
       "      <td>Ethiopia</td>\n",
       "      <td>metad plc</td>\n",
       "      <td>NaN</td>\n",
       "      <td>metad plc</td>\n",
       "      <td>2014/2015</td>\n",
       "      <td>metad agricultural developmet plc</td>\n",
       "      <td>1950-2200</td>\n",
       "      <td>guji-hambela</td>\n",
       "      <td>...</td>\n",
       "      <td>Green</td>\n",
       "      <td>0</td>\n",
       "      <td>April 3rd, 2016</td>\n",
       "      <td>METAD Agricultural Development plc</td>\n",
       "      <td>309fcf77415a3661ae83e027f7e5f05dad786e44</td>\n",
       "      <td>19fef5a731de2db57d16da10287413f5f99bc2dd</td>\n",
       "      <td>m</td>\n",
       "      <td>1950.0</td>\n",
       "      <td>2200.0</td>\n",
       "      <td>2075.0</td>\n",
       "    </tr>\n",
       "    <tr>\n",
       "      <th>1</th>\n",
       "      <td>Arabica</td>\n",
       "      <td>metad plc</td>\n",
       "      <td>Ethiopia</td>\n",
       "      <td>metad plc</td>\n",
       "      <td>NaN</td>\n",
       "      <td>metad plc</td>\n",
       "      <td>2014/2015</td>\n",
       "      <td>metad agricultural developmet plc</td>\n",
       "      <td>1950-2200</td>\n",
       "      <td>guji-hambela</td>\n",
       "      <td>...</td>\n",
       "      <td>Green</td>\n",
       "      <td>1</td>\n",
       "      <td>April 3rd, 2016</td>\n",
       "      <td>METAD Agricultural Development plc</td>\n",
       "      <td>309fcf77415a3661ae83e027f7e5f05dad786e44</td>\n",
       "      <td>19fef5a731de2db57d16da10287413f5f99bc2dd</td>\n",
       "      <td>m</td>\n",
       "      <td>1950.0</td>\n",
       "      <td>2200.0</td>\n",
       "      <td>2075.0</td>\n",
       "    </tr>\n",
       "    <tr>\n",
       "      <th>2</th>\n",
       "      <td>Arabica</td>\n",
       "      <td>grounds for health admin</td>\n",
       "      <td>Guatemala</td>\n",
       "      <td>san marcos barrancas \"san cristobal cuch</td>\n",
       "      <td>NaN</td>\n",
       "      <td>NaN</td>\n",
       "      <td>NaN</td>\n",
       "      <td>NaN</td>\n",
       "      <td>1600 - 1800 m</td>\n",
       "      <td>NaN</td>\n",
       "      <td>...</td>\n",
       "      <td>NaN</td>\n",
       "      <td>0</td>\n",
       "      <td>May 31st, 2011</td>\n",
       "      <td>Specialty Coffee Association</td>\n",
       "      <td>36d0d00a3724338ba7937c52a378d085f2172daa</td>\n",
       "      <td>0878a7d4b9d35ddbf0fe2ce69a2062cceb45a660</td>\n",
       "      <td>m</td>\n",
       "      <td>1600.0</td>\n",
       "      <td>1800.0</td>\n",
       "      <td>1700.0</td>\n",
       "    </tr>\n",
       "    <tr>\n",
       "      <th>3</th>\n",
       "      <td>Arabica</td>\n",
       "      <td>yidnekachew dabessa</td>\n",
       "      <td>Ethiopia</td>\n",
       "      <td>yidnekachew dabessa coffee plantation</td>\n",
       "      <td>NaN</td>\n",
       "      <td>wolensu</td>\n",
       "      <td>NaN</td>\n",
       "      <td>yidnekachew debessa coffee plantation</td>\n",
       "      <td>1800-2200</td>\n",
       "      <td>oromia</td>\n",
       "      <td>...</td>\n",
       "      <td>Green</td>\n",
       "      <td>2</td>\n",
       "      <td>March 25th, 2016</td>\n",
       "      <td>METAD Agricultural Development plc</td>\n",
       "      <td>309fcf77415a3661ae83e027f7e5f05dad786e44</td>\n",
       "      <td>19fef5a731de2db57d16da10287413f5f99bc2dd</td>\n",
       "      <td>m</td>\n",
       "      <td>1800.0</td>\n",
       "      <td>2200.0</td>\n",
       "      <td>2000.0</td>\n",
       "    </tr>\n",
       "    <tr>\n",
       "      <th>4</th>\n",
       "      <td>Arabica</td>\n",
       "      <td>metad plc</td>\n",
       "      <td>Ethiopia</td>\n",
       "      <td>metad plc</td>\n",
       "      <td>NaN</td>\n",
       "      <td>metad plc</td>\n",
       "      <td>2014/2015</td>\n",
       "      <td>metad agricultural developmet plc</td>\n",
       "      <td>1950-2200</td>\n",
       "      <td>guji-hambela</td>\n",
       "      <td>...</td>\n",
       "      <td>Green</td>\n",
       "      <td>2</td>\n",
       "      <td>April 3rd, 2016</td>\n",
       "      <td>METAD Agricultural Development plc</td>\n",
       "      <td>309fcf77415a3661ae83e027f7e5f05dad786e44</td>\n",
       "      <td>19fef5a731de2db57d16da10287413f5f99bc2dd</td>\n",
       "      <td>m</td>\n",
       "      <td>1950.0</td>\n",
       "      <td>2200.0</td>\n",
       "      <td>2075.0</td>\n",
       "    </tr>\n",
       "  </tbody>\n",
       "</table>\n",
       "<p>5 rows × 43 columns</p>\n",
       "</div>"
      ],
      "text/plain": [
       "   Species                     Owner Country.of.Origin  \\\n",
       "0  Arabica                 metad plc          Ethiopia   \n",
       "1  Arabica                 metad plc          Ethiopia   \n",
       "2  Arabica  grounds for health admin         Guatemala   \n",
       "3  Arabica       yidnekachew dabessa          Ethiopia   \n",
       "4  Arabica                 metad plc          Ethiopia   \n",
       "\n",
       "                                  Farm.Name Lot.Number       Mill ICO.Number  \\\n",
       "0                                 metad plc        NaN  metad plc  2014/2015   \n",
       "1                                 metad plc        NaN  metad plc  2014/2015   \n",
       "2  san marcos barrancas \"san cristobal cuch        NaN        NaN        NaN   \n",
       "3     yidnekachew dabessa coffee plantation        NaN    wolensu        NaN   \n",
       "4                                 metad plc        NaN  metad plc  2014/2015   \n",
       "\n",
       "                                 Company       Altitude        Region  ...  \\\n",
       "0      metad agricultural developmet plc      1950-2200  guji-hambela  ...   \n",
       "1      metad agricultural developmet plc      1950-2200  guji-hambela  ...   \n",
       "2                                    NaN  1600 - 1800 m           NaN  ...   \n",
       "3  yidnekachew debessa coffee plantation      1800-2200        oromia  ...   \n",
       "4      metad agricultural developmet plc      1950-2200  guji-hambela  ...   \n",
       "\n",
       "   Color  Category.Two.Defects        Expiration  \\\n",
       "0  Green                     0   April 3rd, 2016   \n",
       "1  Green                     1   April 3rd, 2016   \n",
       "2    NaN                     0    May 31st, 2011   \n",
       "3  Green                     2  March 25th, 2016   \n",
       "4  Green                     2   April 3rd, 2016   \n",
       "\n",
       "                   Certification.Body  \\\n",
       "0  METAD Agricultural Development plc   \n",
       "1  METAD Agricultural Development plc   \n",
       "2        Specialty Coffee Association   \n",
       "3  METAD Agricultural Development plc   \n",
       "4  METAD Agricultural Development plc   \n",
       "\n",
       "                      Certification.Address  \\\n",
       "0  309fcf77415a3661ae83e027f7e5f05dad786e44   \n",
       "1  309fcf77415a3661ae83e027f7e5f05dad786e44   \n",
       "2  36d0d00a3724338ba7937c52a378d085f2172daa   \n",
       "3  309fcf77415a3661ae83e027f7e5f05dad786e44   \n",
       "4  309fcf77415a3661ae83e027f7e5f05dad786e44   \n",
       "\n",
       "                      Certification.Contact unit_of_measurement  \\\n",
       "0  19fef5a731de2db57d16da10287413f5f99bc2dd                   m   \n",
       "1  19fef5a731de2db57d16da10287413f5f99bc2dd                   m   \n",
       "2  0878a7d4b9d35ddbf0fe2ce69a2062cceb45a660                   m   \n",
       "3  19fef5a731de2db57d16da10287413f5f99bc2dd                   m   \n",
       "4  19fef5a731de2db57d16da10287413f5f99bc2dd                   m   \n",
       "\n",
       "  altitude_low_meters altitude_high_meters  altitude_mean_meters  \n",
       "0              1950.0               2200.0                2075.0  \n",
       "1              1950.0               2200.0                2075.0  \n",
       "2              1600.0               1800.0                1700.0  \n",
       "3              1800.0               2200.0                2000.0  \n",
       "4              1950.0               2200.0                2075.0  \n",
       "\n",
       "[5 rows x 43 columns]"
      ]
     },
     "execution_count": 49,
     "metadata": {},
     "output_type": "execute_result"
    }
   ],
   "source": [
    "import csv\n",
    "import re\n",
    "import pandas as pd\n",
    "import pathlib\n",
    "from pathlib import Path\n",
    "import matplotlib.pyplot as plt\n",
    "import plotly\n",
    "import plotly.graph_objs as go\n",
    "import numpy as np\n",
    "\n",
    " \n",
    "dir = Path(\"../../data/arabica_data_cleaned.csv\")\n",
    "arabica_df = pd.read_csv(dir)\n",
    "#unnamed column resulting from the \"\" column name counting the row.\n",
    "arabica_df = arabica_df.loc[:, ~arabica_df.columns.str.contains('^Unnamed')]\n",
    "arabica_df.head()"
   ]
  },
  {
   "cell_type": "markdown",
   "metadata": {},
   "source": [
    "## Drop some categorical columns\n",
    "The dataset is rich in *meta data* (categorical), however we just want to keep \"Country.of.Origin\", \"Producer\", \"Processing.Method\" as meta and all data columns. How to drop all the rest?\n",
    "While you're at it, let's rename the three meta columns we want to keep so they do not have dots but space in their name. "
   ]
  },
  {
   "cell_type": "code",
   "execution_count": 50,
   "metadata": {},
   "outputs": [
    {
     "name": "stdout",
     "output_type": "stream",
     "text": [
      "[('Number.of.Bags', 1), ('Aroma', 70), ('Flavor', 43), ('Aftertaste', 85), ('Acidity', 25), ('Body', 30), ('Balance', 39), ('Uniformity', 183), ('Clean.Cup', 117), ('Sweetness', 93), ('Cupper.Points', 32), ('Total.Cup.Points', 74), ('Moisture', 293), ('Category.One.Defects', 200), ('Quakers', 94), ('Category.Two.Defects', 94), ('altitude_low_meters', 61), ('altitude_high_meters', 57), ('altitude_mean_meters', 61)]\n"
     ]
    },
    {
     "name": "stderr",
     "output_type": "stream",
     "text": [
      "C:\\Users\\Public\\Documents\\Wondershare\\CreatorTemp/ipykernel_13944/2971832901.py:52: SettingWithCopyWarning: \n",
      "A value is trying to be set on a copy of a slice from a DataFrame\n",
      "\n",
      "See the caveats in the documentation: https://pandas.pydata.org/pandas-docs/stable/user_guide/indexing.html#returning-a-view-versus-a-copy\n",
      "  column[mask_upper | mask_lower] = median\n"
     ]
    },
    {
     "data": {
      "text/plain": [
       "'\\ni = 0\\nfor column_name in arabica_reduced.columns:\\n    \\n    if i > 2:\\n        \\n        fig = plt.figure()\\n        \\n        plt.boxplot(arabica_reduced_cleaned[column_name])\\n        \\n    i = i + 1\\n\\n\\n\\ni = 0\\nfor column_name in arabica_reduced.columns:\\n    if i > 2:\\n        fig, axs = plt.subplots(2,1)\\n        axs[0].boxplot(arabica_reduced[column_name])\\n        axs[0].set_title(column_name)\\n        axs[1].boxplot(arabica_reduced_cleaned[column_name])\\n        \\n        \\n    i = i + 1\\n\\n'"
      ]
     },
     "execution_count": 50,
     "metadata": {},
     "output_type": "execute_result"
    },
    {
     "data": {
      "image/png": "[encoded data removed]",
      "text/plain": [
       "<Figure size 432x288 with 1 Axes>"
      ]
     },
     "metadata": {
      "needs_background": "light"
     },
     "output_type": "display_data"
    },
    {
     "data": {
      "image/png": "[encoded data removed]",
      "text/plain": [
       "<Figure size 432x288 with 1 Axes>"
      ]
     },
     "metadata": {
      "needs_background": "light"
     },
     "output_type": "display_data"
    },
    {
     "data": {
      "image/png": "[encoded data removed]",
      "text/plain": [
       "<Figure size 432x288 with 1 Axes>"
      ]
     },
     "metadata": {
      "needs_background": "light"
     },
     "output_type": "display_data"
    },
    {
     "data": {
      "image/png": "[encoded data removed]",
      "text/plain": [
       "<Figure size 432x288 with 1 Axes>"
      ]
     },
     "metadata": {
      "needs_background": "light"
     },
     "output_type": "display_data"
    },
    {
     "data": {
      "image/png": "[encoded data removed]",
      "text/plain": [
       "<Figure size 432x288 with 1 Axes>"
      ]
     },
     "metadata": {
      "needs_background": "light"
     },
     "output_type": "display_data"
    },
    {
     "data": {
      "image/png": "[encoded data removed]",
      "text/plain": [
       "<Figure size 432x288 with 1 Axes>"
      ]
     },
     "metadata": {
      "needs_background": "light"
     },
     "output_type": "display_data"
    },
    {
     "data": {
      "image/png": "[encoded data removed]",
      "text/plain": [
       "<Figure size 432x288 with 1 Axes>"
      ]
     },
     "metadata": {
      "needs_background": "light"
     },
     "output_type": "display_data"
    },
    {
     "data": {
      "image/png": "[encoded data removed]",
      "text/plain": [
       "<Figure size 432x288 with 1 Axes>"
      ]
     },
     "metadata": {
      "needs_background": "light"
     },
     "output_type": "display_data"
    },
    {
     "data": {
      "image/png": "[encoded data removed]",
      "text/plain": [
       "<Figure size 432x288 with 1 Axes>"
      ]
     },
     "metadata": {
      "needs_background": "light"
     },
     "output_type": "display_data"
    },
    {
     "data": {
      "image/png": "[encoded data removed]",
      "text/plain": [
       "<Figure size 432x288 with 1 Axes>"
      ]
     },
     "metadata": {
      "needs_background": "light"
     },
     "output_type": "display_data"
    },
    {
     "data": {
      "image/png": "[encoded data removed]",
      "text/plain": [
       "<Figure size 432x288 with 1 Axes>"
      ]
     },
     "metadata": {
      "needs_background": "light"
     },
     "output_type": "display_data"
    },
    {
     "data": {
      "image/png": "[encoded data removed]",
      "text/plain": [
       "<Figure size 432x288 with 1 Axes>"
      ]
     },
     "metadata": {
      "needs_background": "light"
     },
     "output_type": "display_data"
    },
    {
     "data": {
      "image/png": "[encoded data removed]",
      "text/plain": [
       "<Figure size 432x288 with 1 Axes>"
      ]
     },
     "metadata": {
      "needs_background": "light"
     },
     "output_type": "display_data"
    },
    {
     "data": {
      "image/png": "[encoded data removed]",
      "text/plain": [
       "<Figure size 432x288 with 1 Axes>"
      ]
     },
     "metadata": {
      "needs_background": "light"
     },
     "output_type": "display_data"
    },
    {
     "data": {
      "image/png": "[encoded data removed]",
      "text/plain": [
       "<Figure size 432x288 with 1 Axes>"
      ]
     },
     "metadata": {
      "needs_background": "light"
     },
     "output_type": "display_data"
    },
    {
     "data": {
      "image/png": "[encoded data removed]",
      "text/plain": [
       "<Figure size 432x288 with 1 Axes>"
      ]
     },
     "metadata": {
      "needs_background": "light"
     },
     "output_type": "display_data"
    },
    {
     "data": {
      "image/png": "[encoded data removed]",
      "text/plain": [
       "<Figure size 432x288 with 1 Axes>"
      ]
     },
     "metadata": {
      "needs_background": "light"
     },
     "output_type": "display_data"
    },
    {
     "data": {
      "image/png": "[encoded data removed]",
      "text/plain": [
       "<Figure size 432x288 with 1 Axes>"
      ]
     },
     "metadata": {
      "needs_background": "light"
     },
     "output_type": "display_data"
    },
    {
     "data": {
      "image/png": "[encoded data removed]",
      "text/plain": [
       "<Figure size 432x288 with 1 Axes>"
      ]
     },
     "metadata": {
      "needs_background": "light"
     },
     "output_type": "display_data"
    }
   ],
   "source": [
    "arabica_df_categorical = arabica_df[[\"Country.of.Origin\",\"Producer\",\"Processing.Method\"]]\n",
    "arabica_df_not_categorical = arabica_df.select_dtypes(include=[\"float64\",\"int64\"])\n",
    "arabica_reduced = arabica_df_categorical.join(arabica_df_not_categorical)\n",
    "arabica_reduced = arabica_reduced.rename(columns={\"Country.of.Origin\": \"Country of Origin\", \"Producer\": \"Producer\", \"Processing.Method\": \"Processing Method\"})\n",
    "\n",
    "i = 0\n",
    "for column_name in arabica_reduced.columns:\n",
    "    if i > 2:\n",
    "        #print(column_name)\n",
    "        fig = plt.figure()\n",
    "        plt.boxplot(arabica_reduced[column_name].dropna())\n",
    "        \n",
    "        \n",
    "    i = i + 1\n",
    "\n",
    "median_list = arabica_reduced.quantile().tolist()\n",
    "quantile_25_list = arabica_reduced.quantile(q=0.25).tolist()\n",
    "quantile_75_list = arabica_reduced.quantile(q=0.75).tolist()\n",
    "inter_quartile_range_list = [q75 - q25 for (q75, q25) in zip(quantile_75_list, quantile_25_list)]\n",
    "upper_bound_list = [q75 +(1.5*iqr) for (q75, iqr) in zip(quantile_75_list, inter_quartile_range_list)]\n",
    "lower_bound_list = [q25 -(1.5*iqr) for (q25, iqr) in zip(quantile_25_list, inter_quartile_range_list)]\n",
    "\n",
    "def append_3_zeros_to_front_of_list(list):\n",
    "    for i in range(3):\n",
    "        list.insert(0,0)\n",
    "    return list\n",
    "\n",
    "median_list = append_3_zeros_to_front_of_list(median_list)\n",
    "lower_bound_list = append_3_zeros_to_front_of_list(lower_bound_list)\n",
    "upper_bound_list = append_3_zeros_to_front_of_list(upper_bound_list) \n",
    "\n",
    "\n",
    "arabica_reduced_cleaned = arabica_reduced[[\"Country of Origin\", \"Producer\", \"Processing Method\"]]\n",
    "\n",
    "change_list =[]\n",
    "i = 0\n",
    "for (\n",
    "    column_name,\n",
    "    median,\n",
    "    upper_bound,\n",
    "    lower_bound) in zip(\n",
    "        arabica_reduced.columns,\n",
    "        median_list,\n",
    "        upper_bound_list,\n",
    "        lower_bound_list):\n",
    "      \n",
    "    if i > 2:\n",
    "        column = arabica_reduced[column_name]\n",
    "        mask_upper = column > upper_bound\n",
    "        mask_lower = column < lower_bound\n",
    "        change_list.append((column_name,sum(mask_upper | mask_lower)))\n",
    "        column[mask_upper | mask_lower] = median\n",
    "        to_join = arabica_reduced[column_name] = column\n",
    "        \n",
    "        arabica_reduced_cleaned = arabica_reduced_cleaned.join(to_join)\n",
    "\n",
    "    i = i + 1\n",
    "\n",
    "print(change_list)\n",
    "'''\n",
    "i = 0\n",
    "for column_name in arabica_reduced.columns:\n",
    "    \n",
    "    if i > 2:\n",
    "        \n",
    "        fig = plt.figure()\n",
    "        \n",
    "        plt.boxplot(arabica_reduced_cleaned[column_name])\n",
    "        \n",
    "    i = i + 1\n",
    "\n",
    "\n",
    "\n",
    "i = 0\n",
    "for column_name in arabica_reduced.columns:\n",
    "    if i > 2:\n",
    "        fig, axs = plt.subplots(2,1)\n",
    "        axs[0].boxplot(arabica_reduced[column_name])\n",
    "        axs[0].set_title(column_name)\n",
    "        axs[1].boxplot(arabica_reduced_cleaned[column_name])\n",
    "        \n",
    "        \n",
    "    i = i + 1\n",
    "\n",
    "'''\n"
   ]
  },
  {
   "cell_type": "code",
   "execution_count": 51,
   "metadata": {},
   "outputs": [
    {
     "data": {
      "text/plain": [
       "1"
      ]
     },
     "execution_count": 51,
     "metadata": {},
     "output_type": "execute_result"
    }
   ],
   "source": [
    "arabica_reduced_cleaned[\"altitude_mean_meters\"].tolist()\n",
    "arabica_reduced_cleaned[\"Quakers\"].isna().sum()\n"
   ]
  },
  {
   "cell_type": "code",
   "execution_count": 52,
   "metadata": {},
   "outputs": [
    {
     "data": {
      "text/html": [
       "<div>\n",
       "<style scoped>\n",
       "    .dataframe tbody tr th:only-of-type {\n",
       "        vertical-align: middle;\n",
       "    }\n",
       "\n",
       "    .dataframe tbody tr th {\n",
       "        vertical-align: top;\n",
       "    }\n",
       "\n",
       "    .dataframe thead th {\n",
       "        text-align: right;\n",
       "    }\n",
       "</style>\n",
       "<table border=\"1\" class=\"dataframe\">\n",
       "  <thead>\n",
       "    <tr style=\"text-align: right;\">\n",
       "      <th></th>\n",
       "      <th>Country of Origin</th>\n",
       "      <th>Producer</th>\n",
       "      <th>Processing Method</th>\n",
       "      <th>Number.of.Bags</th>\n",
       "      <th>Aroma</th>\n",
       "      <th>Flavor</th>\n",
       "      <th>Aftertaste</th>\n",
       "      <th>Acidity</th>\n",
       "      <th>Body</th>\n",
       "      <th>Balance</th>\n",
       "      <th>...</th>\n",
       "      <th>Sweetness</th>\n",
       "      <th>Cupper.Points</th>\n",
       "      <th>Total.Cup.Points</th>\n",
       "      <th>Moisture</th>\n",
       "      <th>Category.One.Defects</th>\n",
       "      <th>Quakers</th>\n",
       "      <th>Category.Two.Defects</th>\n",
       "      <th>altitude_low_meters</th>\n",
       "      <th>altitude_high_meters</th>\n",
       "      <th>altitude_mean_meters</th>\n",
       "    </tr>\n",
       "  </thead>\n",
       "  <tbody>\n",
       "    <tr>\n",
       "      <th>0</th>\n",
       "      <td>Ethiopia</td>\n",
       "      <td>METAD PLC</td>\n",
       "      <td>Washed / Wet</td>\n",
       "      <td>300</td>\n",
       "      <td>7.58</td>\n",
       "      <td>7.58</td>\n",
       "      <td>7.42</td>\n",
       "      <td>7.50</td>\n",
       "      <td>7.50</td>\n",
       "      <td>7.50</td>\n",
       "      <td>...</td>\n",
       "      <td>10.0</td>\n",
       "      <td>7.50</td>\n",
       "      <td>82.50</td>\n",
       "      <td>0.12</td>\n",
       "      <td>0</td>\n",
       "      <td>0.0</td>\n",
       "      <td>0</td>\n",
       "      <td>1950.0</td>\n",
       "      <td>2200.0</td>\n",
       "      <td>2075.0</td>\n",
       "    </tr>\n",
       "    <tr>\n",
       "      <th>1</th>\n",
       "      <td>Ethiopia</td>\n",
       "      <td>METAD PLC</td>\n",
       "      <td>Washed / Wet</td>\n",
       "      <td>300</td>\n",
       "      <td>7.58</td>\n",
       "      <td>7.58</td>\n",
       "      <td>7.42</td>\n",
       "      <td>7.50</td>\n",
       "      <td>7.50</td>\n",
       "      <td>7.50</td>\n",
       "      <td>...</td>\n",
       "      <td>10.0</td>\n",
       "      <td>7.50</td>\n",
       "      <td>82.50</td>\n",
       "      <td>0.12</td>\n",
       "      <td>0</td>\n",
       "      <td>0.0</td>\n",
       "      <td>1</td>\n",
       "      <td>1950.0</td>\n",
       "      <td>2200.0</td>\n",
       "      <td>2075.0</td>\n",
       "    </tr>\n",
       "    <tr>\n",
       "      <th>2</th>\n",
       "      <td>Guatemala</td>\n",
       "      <td>NaN</td>\n",
       "      <td>NaN</td>\n",
       "      <td>5</td>\n",
       "      <td>7.58</td>\n",
       "      <td>7.58</td>\n",
       "      <td>7.42</td>\n",
       "      <td>7.50</td>\n",
       "      <td>7.50</td>\n",
       "      <td>7.50</td>\n",
       "      <td>...</td>\n",
       "      <td>10.0</td>\n",
       "      <td>7.50</td>\n",
       "      <td>82.50</td>\n",
       "      <td>0.11</td>\n",
       "      <td>0</td>\n",
       "      <td>0.0</td>\n",
       "      <td>0</td>\n",
       "      <td>1600.0</td>\n",
       "      <td>1800.0</td>\n",
       "      <td>1700.0</td>\n",
       "    </tr>\n",
       "    <tr>\n",
       "      <th>3</th>\n",
       "      <td>Ethiopia</td>\n",
       "      <td>Yidnekachew Dabessa Coffee Plantation</td>\n",
       "      <td>Natural / Dry</td>\n",
       "      <td>320</td>\n",
       "      <td>8.17</td>\n",
       "      <td>7.58</td>\n",
       "      <td>7.42</td>\n",
       "      <td>7.50</td>\n",
       "      <td>7.50</td>\n",
       "      <td>8.25</td>\n",
       "      <td>...</td>\n",
       "      <td>10.0</td>\n",
       "      <td>7.50</td>\n",
       "      <td>82.50</td>\n",
       "      <td>0.11</td>\n",
       "      <td>0</td>\n",
       "      <td>0.0</td>\n",
       "      <td>2</td>\n",
       "      <td>1800.0</td>\n",
       "      <td>2200.0</td>\n",
       "      <td>2000.0</td>\n",
       "    </tr>\n",
       "    <tr>\n",
       "      <th>4</th>\n",
       "      <td>Ethiopia</td>\n",
       "      <td>METAD PLC</td>\n",
       "      <td>Washed / Wet</td>\n",
       "      <td>300</td>\n",
       "      <td>7.58</td>\n",
       "      <td>7.58</td>\n",
       "      <td>7.42</td>\n",
       "      <td>7.50</td>\n",
       "      <td>7.50</td>\n",
       "      <td>8.33</td>\n",
       "      <td>...</td>\n",
       "      <td>10.0</td>\n",
       "      <td>7.50</td>\n",
       "      <td>82.50</td>\n",
       "      <td>0.12</td>\n",
       "      <td>0</td>\n",
       "      <td>0.0</td>\n",
       "      <td>2</td>\n",
       "      <td>1950.0</td>\n",
       "      <td>2200.0</td>\n",
       "      <td>2075.0</td>\n",
       "    </tr>\n",
       "    <tr>\n",
       "      <th>5</th>\n",
       "      <td>Brazil</td>\n",
       "      <td>NaN</td>\n",
       "      <td>Natural / Dry</td>\n",
       "      <td>100</td>\n",
       "      <td>7.58</td>\n",
       "      <td>7.58</td>\n",
       "      <td>7.42</td>\n",
       "      <td>7.50</td>\n",
       "      <td>7.50</td>\n",
       "      <td>8.33</td>\n",
       "      <td>...</td>\n",
       "      <td>10.0</td>\n",
       "      <td>8.33</td>\n",
       "      <td>82.50</td>\n",
       "      <td>0.11</td>\n",
       "      <td>0</td>\n",
       "      <td>0.0</td>\n",
       "      <td>1</td>\n",
       "      <td>NaN</td>\n",
       "      <td>NaN</td>\n",
       "      <td>NaN</td>\n",
       "    </tr>\n",
       "    <tr>\n",
       "      <th>6</th>\n",
       "      <td>Peru</td>\n",
       "      <td>HVC</td>\n",
       "      <td>Washed / Wet</td>\n",
       "      <td>100</td>\n",
       "      <td>7.58</td>\n",
       "      <td>7.58</td>\n",
       "      <td>7.42</td>\n",
       "      <td>7.50</td>\n",
       "      <td>7.50</td>\n",
       "      <td>8.25</td>\n",
       "      <td>...</td>\n",
       "      <td>10.0</td>\n",
       "      <td>8.50</td>\n",
       "      <td>82.50</td>\n",
       "      <td>0.11</td>\n",
       "      <td>0</td>\n",
       "      <td>0.0</td>\n",
       "      <td>0</td>\n",
       "      <td>NaN</td>\n",
       "      <td>NaN</td>\n",
       "      <td>NaN</td>\n",
       "    </tr>\n",
       "    <tr>\n",
       "      <th>7</th>\n",
       "      <td>Ethiopia</td>\n",
       "      <td>Bazen Agricultural &amp; Industrial Dev't Plc</td>\n",
       "      <td>NaN</td>\n",
       "      <td>300</td>\n",
       "      <td>7.58</td>\n",
       "      <td>8.33</td>\n",
       "      <td>7.42</td>\n",
       "      <td>7.50</td>\n",
       "      <td>7.50</td>\n",
       "      <td>7.50</td>\n",
       "      <td>...</td>\n",
       "      <td>10.0</td>\n",
       "      <td>7.50</td>\n",
       "      <td>82.50</td>\n",
       "      <td>0.11</td>\n",
       "      <td>0</td>\n",
       "      <td>0.0</td>\n",
       "      <td>0</td>\n",
       "      <td>1570.0</td>\n",
       "      <td>1700.0</td>\n",
       "      <td>1635.0</td>\n",
       "    </tr>\n",
       "    <tr>\n",
       "      <th>8</th>\n",
       "      <td>Ethiopia</td>\n",
       "      <td>Bazen Agricultural &amp; Industrial Dev't Plc</td>\n",
       "      <td>NaN</td>\n",
       "      <td>300</td>\n",
       "      <td>7.58</td>\n",
       "      <td>7.58</td>\n",
       "      <td>7.42</td>\n",
       "      <td>7.50</td>\n",
       "      <td>7.50</td>\n",
       "      <td>7.50</td>\n",
       "      <td>...</td>\n",
       "      <td>10.0</td>\n",
       "      <td>7.50</td>\n",
       "      <td>82.50</td>\n",
       "      <td>0.11</td>\n",
       "      <td>0</td>\n",
       "      <td>0.0</td>\n",
       "      <td>0</td>\n",
       "      <td>1570.0</td>\n",
       "      <td>1700.0</td>\n",
       "      <td>1635.0</td>\n",
       "    </tr>\n",
       "    <tr>\n",
       "      <th>9</th>\n",
       "      <td>Ethiopia</td>\n",
       "      <td>Diamond Enterprise Plc</td>\n",
       "      <td>Natural / Dry</td>\n",
       "      <td>50</td>\n",
       "      <td>8.08</td>\n",
       "      <td>7.58</td>\n",
       "      <td>7.42</td>\n",
       "      <td>7.50</td>\n",
       "      <td>7.67</td>\n",
       "      <td>7.50</td>\n",
       "      <td>...</td>\n",
       "      <td>10.0</td>\n",
       "      <td>8.50</td>\n",
       "      <td>82.50</td>\n",
       "      <td>0.10</td>\n",
       "      <td>0</td>\n",
       "      <td>0.0</td>\n",
       "      <td>4</td>\n",
       "      <td>1795.0</td>\n",
       "      <td>1850.0</td>\n",
       "      <td>1822.5</td>\n",
       "    </tr>\n",
       "    <tr>\n",
       "      <th>10</th>\n",
       "      <td>Ethiopia</td>\n",
       "      <td>Fahem Coffee Plantation</td>\n",
       "      <td>Natural / Dry</td>\n",
       "      <td>300</td>\n",
       "      <td>8.17</td>\n",
       "      <td>7.58</td>\n",
       "      <td>7.42</td>\n",
       "      <td>7.50</td>\n",
       "      <td>7.75</td>\n",
       "      <td>8.17</td>\n",
       "      <td>...</td>\n",
       "      <td>10.0</td>\n",
       "      <td>7.50</td>\n",
       "      <td>82.50</td>\n",
       "      <td>0.10</td>\n",
       "      <td>0</td>\n",
       "      <td>0.0</td>\n",
       "      <td>1</td>\n",
       "      <td>1855.0</td>\n",
       "      <td>1955.0</td>\n",
       "      <td>1905.0</td>\n",
       "    </tr>\n",
       "    <tr>\n",
       "      <th>11</th>\n",
       "      <td>United States</td>\n",
       "      <td>Alfredo De Jesús López Pérez</td>\n",
       "      <td>Washed / Wet</td>\n",
       "      <td>10</td>\n",
       "      <td>7.58</td>\n",
       "      <td>7.58</td>\n",
       "      <td>7.42</td>\n",
       "      <td>8.33</td>\n",
       "      <td>8.08</td>\n",
       "      <td>8.17</td>\n",
       "      <td>...</td>\n",
       "      <td>10.0</td>\n",
       "      <td>8.50</td>\n",
       "      <td>82.50</td>\n",
       "      <td>0.11</td>\n",
       "      <td>0</td>\n",
       "      <td>0.0</td>\n",
       "      <td>0</td>\n",
       "      <td>1872.0</td>\n",
       "      <td>1872.0</td>\n",
       "      <td>1872.0</td>\n",
       "    </tr>\n",
       "    <tr>\n",
       "      <th>12</th>\n",
       "      <td>United States</td>\n",
       "      <td>Jorge Walter Restrepo</td>\n",
       "      <td>Washed / Wet</td>\n",
       "      <td>10</td>\n",
       "      <td>8.08</td>\n",
       "      <td>7.58</td>\n",
       "      <td>7.42</td>\n",
       "      <td>7.50</td>\n",
       "      <td>8.00</td>\n",
       "      <td>8.08</td>\n",
       "      <td>...</td>\n",
       "      <td>10.0</td>\n",
       "      <td>8.33</td>\n",
       "      <td>82.50</td>\n",
       "      <td>0.11</td>\n",
       "      <td>0</td>\n",
       "      <td>0.0</td>\n",
       "      <td>0</td>\n",
       "      <td>1943.0</td>\n",
       "      <td>1943.0</td>\n",
       "      <td>1943.0</td>\n",
       "    </tr>\n",
       "    <tr>\n",
       "      <th>13</th>\n",
       "      <td>United States (Hawaii)</td>\n",
       "      <td>Robert, Sharon, Arianna Wood</td>\n",
       "      <td>NaN</td>\n",
       "      <td>1</td>\n",
       "      <td>7.58</td>\n",
       "      <td>7.58</td>\n",
       "      <td>7.42</td>\n",
       "      <td>8.25</td>\n",
       "      <td>7.50</td>\n",
       "      <td>8.00</td>\n",
       "      <td>...</td>\n",
       "      <td>10.0</td>\n",
       "      <td>7.50</td>\n",
       "      <td>82.50</td>\n",
       "      <td>0.11</td>\n",
       "      <td>0</td>\n",
       "      <td>0.0</td>\n",
       "      <td>2</td>\n",
       "      <td>609.6</td>\n",
       "      <td>609.6</td>\n",
       "      <td>609.6</td>\n",
       "    </tr>\n",
       "    <tr>\n",
       "      <th>14</th>\n",
       "      <td>Ethiopia</td>\n",
       "      <td>Bazen Agricultural &amp; Industrial Dev't Plc</td>\n",
       "      <td>NaN</td>\n",
       "      <td>300</td>\n",
       "      <td>7.58</td>\n",
       "      <td>8.33</td>\n",
       "      <td>7.42</td>\n",
       "      <td>8.25</td>\n",
       "      <td>7.50</td>\n",
       "      <td>7.50</td>\n",
       "      <td>...</td>\n",
       "      <td>10.0</td>\n",
       "      <td>8.50</td>\n",
       "      <td>82.50</td>\n",
       "      <td>0.05</td>\n",
       "      <td>0</td>\n",
       "      <td>0.0</td>\n",
       "      <td>2</td>\n",
       "      <td>1570.0</td>\n",
       "      <td>1700.0</td>\n",
       "      <td>1635.0</td>\n",
       "    </tr>\n",
       "    <tr>\n",
       "      <th>15</th>\n",
       "      <td>United States</td>\n",
       "      <td>María Leticia Diosa</td>\n",
       "      <td>Washed / Wet</td>\n",
       "      <td>10</td>\n",
       "      <td>8.00</td>\n",
       "      <td>7.58</td>\n",
       "      <td>7.42</td>\n",
       "      <td>8.17</td>\n",
       "      <td>8.17</td>\n",
       "      <td>8.00</td>\n",
       "      <td>...</td>\n",
       "      <td>10.0</td>\n",
       "      <td>8.17</td>\n",
       "      <td>82.50</td>\n",
       "      <td>0.11</td>\n",
       "      <td>0</td>\n",
       "      <td>0.0</td>\n",
       "      <td>0</td>\n",
       "      <td>2080.0</td>\n",
       "      <td>2080.0</td>\n",
       "      <td>2080.0</td>\n",
       "    </tr>\n",
       "    <tr>\n",
       "      <th>16</th>\n",
       "      <td>Indonesia</td>\n",
       "      <td>P.T. Toarco Jaya</td>\n",
       "      <td>NaN</td>\n",
       "      <td>1</td>\n",
       "      <td>7.58</td>\n",
       "      <td>8.25</td>\n",
       "      <td>7.83</td>\n",
       "      <td>7.75</td>\n",
       "      <td>7.50</td>\n",
       "      <td>7.50</td>\n",
       "      <td>...</td>\n",
       "      <td>10.0</td>\n",
       "      <td>8.33</td>\n",
       "      <td>87.42</td>\n",
       "      <td>0.11</td>\n",
       "      <td>0</td>\n",
       "      <td>0.0</td>\n",
       "      <td>0</td>\n",
       "      <td>1200.0</td>\n",
       "      <td>1800.0</td>\n",
       "      <td>1500.0</td>\n",
       "    </tr>\n",
       "    <tr>\n",
       "      <th>17</th>\n",
       "      <td>Ethiopia</td>\n",
       "      <td>Green Gold Ethiopia | Phone: 0114342032</td>\n",
       "      <td>NaN</td>\n",
       "      <td>150</td>\n",
       "      <td>8.17</td>\n",
       "      <td>8.33</td>\n",
       "      <td>7.42</td>\n",
       "      <td>8.33</td>\n",
       "      <td>7.50</td>\n",
       "      <td>8.33</td>\n",
       "      <td>...</td>\n",
       "      <td>10.0</td>\n",
       "      <td>7.50</td>\n",
       "      <td>87.33</td>\n",
       "      <td>0.05</td>\n",
       "      <td>0</td>\n",
       "      <td>0.0</td>\n",
       "      <td>2</td>\n",
       "      <td>NaN</td>\n",
       "      <td>NaN</td>\n",
       "      <td>NaN</td>\n",
       "    </tr>\n",
       "    <tr>\n",
       "      <th>18</th>\n",
       "      <td>China</td>\n",
       "      <td>Echo Coffee</td>\n",
       "      <td>Washed / Wet</td>\n",
       "      <td>3</td>\n",
       "      <td>7.58</td>\n",
       "      <td>8.25</td>\n",
       "      <td>7.42</td>\n",
       "      <td>8.17</td>\n",
       "      <td>7.92</td>\n",
       "      <td>8.00</td>\n",
       "      <td>...</td>\n",
       "      <td>10.0</td>\n",
       "      <td>8.42</td>\n",
       "      <td>87.25</td>\n",
       "      <td>0.10</td>\n",
       "      <td>0</td>\n",
       "      <td>0.0</td>\n",
       "      <td>0</td>\n",
       "      <td>1450.0</td>\n",
       "      <td>1450.0</td>\n",
       "      <td>1450.0</td>\n",
       "    </tr>\n",
       "    <tr>\n",
       "      <th>19</th>\n",
       "      <td>Ethiopia</td>\n",
       "      <td>LevelUp</td>\n",
       "      <td>Natural / Dry</td>\n",
       "      <td>250</td>\n",
       "      <td>8.17</td>\n",
       "      <td>8.17</td>\n",
       "      <td>8.00</td>\n",
       "      <td>8.17</td>\n",
       "      <td>8.08</td>\n",
       "      <td>8.33</td>\n",
       "      <td>...</td>\n",
       "      <td>10.0</td>\n",
       "      <td>8.33</td>\n",
       "      <td>87.25</td>\n",
       "      <td>0.11</td>\n",
       "      <td>0</td>\n",
       "      <td>0.0</td>\n",
       "      <td>8</td>\n",
       "      <td>1700.0</td>\n",
       "      <td>2000.0</td>\n",
       "      <td>1850.0</td>\n",
       "    </tr>\n",
       "  </tbody>\n",
       "</table>\n",
       "<p>20 rows × 22 columns</p>\n",
       "</div>"
      ],
      "text/plain": [
       "         Country of Origin                                   Producer  \\\n",
       "0                 Ethiopia                                  METAD PLC   \n",
       "1                 Ethiopia                                  METAD PLC   \n",
       "2                Guatemala                                        NaN   \n",
       "3                 Ethiopia      Yidnekachew Dabessa Coffee Plantation   \n",
       "4                 Ethiopia                                  METAD PLC   \n",
       "5                   Brazil                                        NaN   \n",
       "6                     Peru                                        HVC   \n",
       "7                 Ethiopia  Bazen Agricultural & Industrial Dev't Plc   \n",
       "8                 Ethiopia  Bazen Agricultural & Industrial Dev't Plc   \n",
       "9                 Ethiopia                     Diamond Enterprise Plc   \n",
       "10                Ethiopia                    Fahem Coffee Plantation   \n",
       "11           United States               Alfredo De Jesús López Pérez   \n",
       "12           United States                      Jorge Walter Restrepo   \n",
       "13  United States (Hawaii)               Robert, Sharon, Arianna Wood   \n",
       "14                Ethiopia  Bazen Agricultural & Industrial Dev't Plc   \n",
       "15           United States                        María Leticia Diosa   \n",
       "16               Indonesia                           P.T. Toarco Jaya   \n",
       "17                Ethiopia    Green Gold Ethiopia | Phone: 0114342032   \n",
       "18                   China                                Echo Coffee   \n",
       "19                Ethiopia                                    LevelUp   \n",
       "\n",
       "   Processing Method  Number.of.Bags  Aroma  Flavor  Aftertaste  Acidity  \\\n",
       "0       Washed / Wet             300   7.58    7.58        7.42     7.50   \n",
       "1       Washed / Wet             300   7.58    7.58        7.42     7.50   \n",
       "2                NaN               5   7.58    7.58        7.42     7.50   \n",
       "3      Natural / Dry             320   8.17    7.58        7.42     7.50   \n",
       "4       Washed / Wet             300   7.58    7.58        7.42     7.50   \n",
       "5      Natural / Dry             100   7.58    7.58        7.42     7.50   \n",
       "6       Washed / Wet             100   7.58    7.58        7.42     7.50   \n",
       "7                NaN             300   7.58    8.33        7.42     7.50   \n",
       "8                NaN             300   7.58    7.58        7.42     7.50   \n",
       "9      Natural / Dry              50   8.08    7.58        7.42     7.50   \n",
       "10     Natural / Dry             300   8.17    7.58        7.42     7.50   \n",
       "11      Washed / Wet              10   7.58    7.58        7.42     8.33   \n",
       "12      Washed / Wet              10   8.08    7.58        7.42     7.50   \n",
       "13               NaN               1   7.58    7.58        7.42     8.25   \n",
       "14               NaN             300   7.58    8.33        7.42     8.25   \n",
       "15      Washed / Wet              10   8.00    7.58        7.42     8.17   \n",
       "16               NaN               1   7.58    8.25        7.83     7.75   \n",
       "17               NaN             150   8.17    8.33        7.42     8.33   \n",
       "18      Washed / Wet               3   7.58    8.25        7.42     8.17   \n",
       "19     Natural / Dry             250   8.17    8.17        8.00     8.17   \n",
       "\n",
       "    Body  Balance  ...  Sweetness  Cupper.Points  Total.Cup.Points  Moisture  \\\n",
       "0   7.50     7.50  ...       10.0           7.50             82.50      0.12   \n",
       "1   7.50     7.50  ...       10.0           7.50             82.50      0.12   \n",
       "2   7.50     7.50  ...       10.0           7.50             82.50      0.11   \n",
       "3   7.50     8.25  ...       10.0           7.50             82.50      0.11   \n",
       "4   7.50     8.33  ...       10.0           7.50             82.50      0.12   \n",
       "5   7.50     8.33  ...       10.0           8.33             82.50      0.11   \n",
       "6   7.50     8.25  ...       10.0           8.50             82.50      0.11   \n",
       "7   7.50     7.50  ...       10.0           7.50             82.50      0.11   \n",
       "8   7.50     7.50  ...       10.0           7.50             82.50      0.11   \n",
       "9   7.67     7.50  ...       10.0           8.50             82.50      0.10   \n",
       "10  7.75     8.17  ...       10.0           7.50             82.50      0.10   \n",
       "11  8.08     8.17  ...       10.0           8.50             82.50      0.11   \n",
       "12  8.00     8.08  ...       10.0           8.33             82.50      0.11   \n",
       "13  7.50     8.00  ...       10.0           7.50             82.50      0.11   \n",
       "14  7.50     7.50  ...       10.0           8.50             82.50      0.05   \n",
       "15  8.17     8.00  ...       10.0           8.17             82.50      0.11   \n",
       "16  7.50     7.50  ...       10.0           8.33             87.42      0.11   \n",
       "17  7.50     8.33  ...       10.0           7.50             87.33      0.05   \n",
       "18  7.92     8.00  ...       10.0           8.42             87.25      0.10   \n",
       "19  8.08     8.33  ...       10.0           8.33             87.25      0.11   \n",
       "\n",
       "    Category.One.Defects  Quakers  Category.Two.Defects  altitude_low_meters  \\\n",
       "0                      0      0.0                     0               1950.0   \n",
       "1                      0      0.0                     1               1950.0   \n",
       "2                      0      0.0                     0               1600.0   \n",
       "3                      0      0.0                     2               1800.0   \n",
       "4                      0      0.0                     2               1950.0   \n",
       "5                      0      0.0                     1                  NaN   \n",
       "6                      0      0.0                     0                  NaN   \n",
       "7                      0      0.0                     0               1570.0   \n",
       "8                      0      0.0                     0               1570.0   \n",
       "9                      0      0.0                     4               1795.0   \n",
       "10                     0      0.0                     1               1855.0   \n",
       "11                     0      0.0                     0               1872.0   \n",
       "12                     0      0.0                     0               1943.0   \n",
       "13                     0      0.0                     2                609.6   \n",
       "14                     0      0.0                     2               1570.0   \n",
       "15                     0      0.0                     0               2080.0   \n",
       "16                     0      0.0                     0               1200.0   \n",
       "17                     0      0.0                     2                  NaN   \n",
       "18                     0      0.0                     0               1450.0   \n",
       "19                     0      0.0                     8               1700.0   \n",
       "\n",
       "    altitude_high_meters  altitude_mean_meters  \n",
       "0                 2200.0                2075.0  \n",
       "1                 2200.0                2075.0  \n",
       "2                 1800.0                1700.0  \n",
       "3                 2200.0                2000.0  \n",
       "4                 2200.0                2075.0  \n",
       "5                    NaN                   NaN  \n",
       "6                    NaN                   NaN  \n",
       "7                 1700.0                1635.0  \n",
       "8                 1700.0                1635.0  \n",
       "9                 1850.0                1822.5  \n",
       "10                1955.0                1905.0  \n",
       "11                1872.0                1872.0  \n",
       "12                1943.0                1943.0  \n",
       "13                 609.6                 609.6  \n",
       "14                1700.0                1635.0  \n",
       "15                2080.0                2080.0  \n",
       "16                1800.0                1500.0  \n",
       "17                   NaN                   NaN  \n",
       "18                1450.0                1450.0  \n",
       "19                2000.0                1850.0  \n",
       "\n",
       "[20 rows x 22 columns]"
      ]
     },
     "execution_count": 52,
     "metadata": {},
     "output_type": "execute_result"
    }
   ],
   "source": [
    "arabica_reduced = arabica_reduced_cleaned\n",
    "arabica_reduced_cleaned.head(20)\n"
   ]
  },
  {
   "cell_type": "code",
   "execution_count": 53,
   "metadata": {},
   "outputs": [
    {
     "data": {
      "image/png": "[encoded data removed]",
      "text/plain": [
       "<Figure size 432x288 with 1 Axes>"
      ]
     },
     "metadata": {
      "needs_background": "light"
     },
     "output_type": "display_data"
    },
    {
     "data": {
      "image/png": "[encoded data removed]",
      "text/plain": [
       "<Figure size 432x288 with 1 Axes>"
      ]
     },
     "metadata": {
      "needs_background": "light"
     },
     "output_type": "display_data"
    },
    {
     "data": {
      "image/png": "[encoded data removed]",
      "text/plain": [
       "<Figure size 432x288 with 1 Axes>"
      ]
     },
     "metadata": {
      "needs_background": "light"
     },
     "output_type": "display_data"
    },
    {
     "data": {
      "image/png": "[encoded data removed]",
      "text/plain": [
       "<Figure size 432x288 with 1 Axes>"
      ]
     },
     "metadata": {
      "needs_background": "light"
     },
     "output_type": "display_data"
    },
    {
     "data": {
      "image/png": "[encoded data removed]",
      "text/plain": [
       "<Figure size 432x288 with 1 Axes>"
      ]
     },
     "metadata": {
      "needs_background": "light"
     },
     "output_type": "display_data"
    },
    {
     "data": {
      "image/png": "[encoded data removed]",
      "text/plain": [
       "<Figure size 432x288 with 1 Axes>"
      ]
     },
     "metadata": {
      "needs_background": "light"
     },
     "output_type": "display_data"
    },
    {
     "data": {
      "image/png": "[encoded data removed]",
      "text/plain": [
       "<Figure size 432x288 with 1 Axes>"
      ]
     },
     "metadata": {
      "needs_background": "light"
     },
     "output_type": "display_data"
    },
    {
     "data": {
      "image/png": "[encoded data removed]",
      "text/plain": [
       "<Figure size 432x288 with 1 Axes>"
      ]
     },
     "metadata": {
      "needs_background": "light"
     },
     "output_type": "display_data"
    },
    {
     "data": {
      "image/png": "[encoded data removed]",
      "text/plain": [
       "<Figure size 432x288 with 1 Axes>"
      ]
     },
     "metadata": {
      "needs_background": "light"
     },
     "output_type": "display_data"
    },
    {
     "data": {
      "image/png": "[encoded data removed]",
      "text/plain": [
       "<Figure size 432x288 with 1 Axes>"
      ]
     },
     "metadata": {
      "needs_background": "light"
     },
     "output_type": "display_data"
    },
    {
     "data": {
      "image/png": "[encoded data removed]",
      "text/plain": [
       "<Figure size 432x288 with 1 Axes>"
      ]
     },
     "metadata": {
      "needs_background": "light"
     },
     "output_type": "display_data"
    },
    {
     "data": {
      "image/png": "[encoded data removed]",
      "text/plain": [
       "<Figure size 432x288 with 1 Axes>"
      ]
     },
     "metadata": {
      "needs_background": "light"
     },
     "output_type": "display_data"
    },
    {
     "data": {
      "image/png": "[encoded data removed]",
      "text/plain": [
       "<Figure size 432x288 with 1 Axes>"
      ]
     },
     "metadata": {
      "needs_background": "light"
     },
     "output_type": "display_data"
    },
    {
     "data": {
      "image/png": "[encoded data removed]",
      "text/plain": [
       "<Figure size 432x288 with 1 Axes>"
      ]
     },
     "metadata": {
      "needs_background": "light"
     },
     "output_type": "display_data"
    },
    {
     "data": {
      "image/png": "[encoded data removed]",
      "text/plain": [
       "<Figure size 432x288 with 1 Axes>"
      ]
     },
     "metadata": {
      "needs_background": "light"
     },
     "output_type": "display_data"
    },
    {
     "data": {
      "image/png": "[encoded data removed]",
      "text/plain": [
       "<Figure size 432x288 with 1 Axes>"
      ]
     },
     "metadata": {
      "needs_background": "light"
     },
     "output_type": "display_data"
    },
    {
     "data": {
      "image/png": "[encoded data removed]",
      "text/plain": [
       "<Figure size 432x288 with 1 Axes>"
      ]
     },
     "metadata": {
      "needs_background": "light"
     },
     "output_type": "display_data"
    },
    {
     "data": {
      "image/png": "[encoded data removed]",
      "text/plain": [
       "<Figure size 432x288 with 1 Axes>"
      ]
     },
     "metadata": {
      "needs_background": "light"
     },
     "output_type": "display_data"
    },
    {
     "data": {
      "image/png": "[encoded data removed]",
      "text/plain": [
       "<Figure size 432x288 with 1 Axes>"
      ]
     },
     "metadata": {
      "needs_background": "light"
     },
     "output_type": "display_data"
    }
   ],
   "source": [
    "i = 0\n",
    "for column_name in arabica_reduced_cleaned.columns:\n",
    "    if i > 2:\n",
    "        #print(column_name)\n",
    "        fig = plt.figure()\n",
    "        plt.boxplot(arabica_reduced_cleaned[column_name].dropna())\n",
    "        \n",
    "        \n",
    "    i = i + 1"
   ]
  },
  {
   "cell_type": "code",
   "execution_count": 54,
   "metadata": {},
   "outputs": [
    {
     "name": "stdout",
     "output_type": "stream",
     "text": [
      "[('Peru', 10), ('United States', 8), ('Panama', 4), ('Papua New Guinea', 1), ('Japan', 1), ('Ecuador', 1), ('United States (Puerto Rico)', 4), ('Haiti', 6), ('Burundi', 2), ('Vietnam', 7), ('Philippines', 5), ('Rwanda', 1), ('Laos', 3), ('Zambia', 1), ('Myanmar', 8), ('Mauritius', 1), ('Cote d?Ivoire', 1), ('India', 1)]\n",
      "[('Ethiopia', 44), ('Guatemala', 181), ('Brazil', 132), ('United States (Hawaii)', 73), ('Costa Rica', 51), ('Mexico', 236), ('Honduras', 53), ('Taiwan', 75), ('Tanzania, United Republic Of', 40), ('Thailand', 32), ('Colombia', 183)]\n"
     ]
    }
   ],
   "source": [
    "unique_country_list = arabica_reduced_cleaned[\"Country of Origin\"].dropna().unique()\n",
    "country_list = arabica_reduced_cleaned[\"Country of Origin\"].tolist()\n",
    "number_of_entries_list = []\n",
    "for country in unique_country_list:\n",
    "    count = country_list.count(country)\n",
    "    number_of_entries_list.append(count)\n",
    "entries_30 = []\n",
    "entries_10 = []\n",
    "\n",
    "for i in range(len(unique_country_list)):\n",
    "    if number_of_entries_list[i] >= 30:\n",
    "        tupel = (unique_country_list[i], number_of_entries_list[i])\n",
    "        entries_30.append(tupel)\n",
    "    if number_of_entries_list[i] <= 10:\n",
    "        tupel = (unique_country_list[i], number_of_entries_list[i])\n",
    "        entries_10.append(tupel)\n",
    "print(entries_10)\n",
    "print(entries_30)\n",
    "\n"
   ]
  },
  {
   "cell_type": "code",
   "execution_count": 55,
   "metadata": {},
   "outputs": [],
   "source": [
    "def get_number_of_entries_df (property):\n",
    "    unique_property_list = arabica_reduced_cleaned[property].dropna().unique()\n",
    "    property_list = arabica_reduced_cleaned[property].tolist()\n",
    "    number_of_entries_list = []\n",
    "    for unique_property in unique_property_list:\n",
    "        count = property_list.count(unique_property)\n",
    "        number_of_entries_list.append(count)\n",
    "    df = pd.DataFrame({property: unique_property_list, \"Number_of_Entries\":number_of_entries_list})\n",
    "    return df\n",
    "\n",
    "country_entries = get_number_of_entries_df(\"Country of Origin\")\n",
    "producer_entries = get_number_of_entries_df(\"Producer\")\n",
    "processing_method_entries = get_number_of_entries_df(\"Processing Method\")\n",
    "\n",
    "\n",
    "\n",
    "\n",
    "\n",
    "\n",
    "\n",
    "\n",
    "\n"
   ]
  },
  {
   "cell_type": "code",
   "execution_count": 56,
   "metadata": {},
   "outputs": [
    {
     "name": "stdout",
     "output_type": "stream",
     "text": [
      "Countries with more than 30 entries:\n",
      "               Country of Origin  Number_of_Entries\n",
      "0                       Ethiopia                 44\n",
      "1                      Guatemala                181\n",
      "2                         Brazil                132\n",
      "5         United States (Hawaii)                 73\n",
      "8                     Costa Rica                 51\n",
      "9                         Mexico                236\n",
      "11                      Honduras                 53\n",
      "12                        Taiwan                 75\n",
      "14  Tanzania, United Republic Of                 40\n",
      "16                      Thailand                 32\n",
      "17                      Colombia                183\n",
      "\n",
      "\n"
     ]
    }
   ],
   "source": [
    "print(\"Countries with more than 30 entries:\")\n",
    "print(country_entries[country_entries.Number_of_Entries > 30])\n",
    "print(\"\\n\")"
   ]
  },
  {
   "cell_type": "code",
   "execution_count": 57,
   "metadata": {},
   "outputs": [
    {
     "name": "stdout",
     "output_type": "stream",
     "text": [
      "Countries with less than 10 entries:\n",
      "              Country of Origin  Number_of_Entries\n",
      "4                 United States                  8\n",
      "18                       Panama                  4\n",
      "19             Papua New Guinea                  1\n",
      "21                        Japan                  1\n",
      "22                      Ecuador                  1\n",
      "23  United States (Puerto Rico)                  4\n",
      "24                        Haiti                  6\n",
      "25                      Burundi                  2\n",
      "26                      Vietnam                  7\n",
      "27                  Philippines                  5\n",
      "28                       Rwanda                  1\n",
      "30                         Laos                  3\n",
      "31                       Zambia                  1\n",
      "32                      Myanmar                  8\n",
      "33                    Mauritius                  1\n",
      "34                Cote d?Ivoire                  1\n",
      "35                        India                  1\n",
      "\n",
      "\n"
     ]
    }
   ],
   "source": [
    "print(\"Countries with less than 10 entries:\")\n",
    "print(country_entries[country_entries.Number_of_Entries < 10])\n",
    "print(\"\\n\")"
   ]
  },
  {
   "cell_type": "code",
   "execution_count": 58,
   "metadata": {},
   "outputs": [
    {
     "name": "stdout",
     "output_type": "stream",
     "text": [
      "Producer with most entries:\n",
      "    Producer  Number_of_Entries\n",
      "70  La Plata                 30\n",
      "\n",
      "\n"
     ]
    }
   ],
   "source": [
    "print(\"Producer with most entries:\")\n",
    "print(producer_entries[producer_entries.Number_of_Entries == producer_entries.Number_of_Entries.max()])\n",
    "print(\"\\n\")"
   ]
  },
  {
   "cell_type": "code",
   "execution_count": 59,
   "metadata": {},
   "outputs": [
    {
     "name": "stdout",
     "output_type": "stream",
     "text": [
      "Most common Processing Method\n",
      "  Processing Method  Number_of_Entries\n",
      "0      Washed / Wet                812\n",
      "\n",
      "\n"
     ]
    }
   ],
   "source": [
    "print(\"Most common Processing Method\")\n",
    "print(processing_method_entries[processing_method_entries.Number_of_Entries == processing_method_entries.Number_of_Entries.max()])\n",
    "print(\"\\n\")"
   ]
  },
  {
   "cell_type": "code",
   "execution_count": 60,
   "metadata": {},
   "outputs": [
    {
     "name": "stdout",
     "output_type": "stream",
     "text": [
      "Least common Processing Method\n",
      "        Processing Method  Number_of_Entries\n",
      "2  Pulped natural / honey                 14\n"
     ]
    }
   ],
   "source": [
    "print(\"Least common Processing Method\")\n",
    "print(processing_method_entries[processing_method_entries.Number_of_Entries == processing_method_entries.Number_of_Entries.min()])"
   ]
  }
 ],
 "metadata": {
  "interpreter": {
   "hash": "155d4da6f18a758acb8ce1ea013de05ea269d559065ab64d489122ace41ba775"
  },
  "kernelspec": {
   "display_name": "Python 3.9.8 64-bit ('.venv': venv)",
   "language": "python",
   "name": "python3"
  },
  "language_info": {
   "codemirror_mode": {
    "name": "ipython",
    "version": 3
   },
   "file_extension": ".py",
   "mimetype": "text/x-python",
   "name": "python",
   "nbconvert_exporter": "python",
   "pygments_lexer": "ipython3",
   "version": "3.9.9"
  },
  "orig_nbformat": 4
 },
 "nbformat": 4,
 "nbformat_minor": 2
}
