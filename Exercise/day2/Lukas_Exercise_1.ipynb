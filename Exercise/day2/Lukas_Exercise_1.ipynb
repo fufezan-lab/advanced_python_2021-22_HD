{
 "cells": [
  {
   "cell_type": "code",
   "execution_count": 18,
   "metadata": {},
   "outputs": [],
   "source": [
    "import csv\n",
    "import re\n",
    "import pandas as pd\n",
    "import pathlib\n",
    "from pathlib import Path\n",
    "import matplotlib.pyplot as plt"
   ]
  },
  {
   "cell_type": "code",
   "execution_count": 19,
   "metadata": {},
   "outputs": [],
   "source": [
    "def get_longest_shortest (path_dir):\n",
    "    amino_acid_list = [\"G\",\"A\",\"L\",\"M\",\"F\",\"W\",\"K\",\"Q\",\"E\",\"S\",\"P\",\"V\",\"I\",\"C\",\"Y\",\"H\",\"R\",\"N\",\"D\",\"T\"]\n",
    "    aa_counter = 0\n",
    "    longest = ()\n",
    "    shortest = ()\n",
    "    \n",
    "    \n",
    "    #output_df = pd.Dataframe(columns = [\"AminoAcids\":amino_acid_list,\"Counter\":zero_list])\n",
    "    with open(path_dir) as input_data:\n",
    "        for line in input_data:\n",
    "            if line.startswith(\">\"):                \n",
    "                if aa_counter != 0:                    \n",
    "                    if len(longest) == 0:\n",
    "                        shortest = (current_protein, aa_counter)\n",
    "                        longest = (current_protein, aa_counter)\n",
    "                    else:\n",
    "                        if aa_counter > longest[1]:\n",
    "                           longest = (current_protein, aa_counter)\n",
    "                        if aa_counter < shortest[1]:\n",
    "                           shortest = (current_protein, aa_counter)  \n",
    "                    current_protein = line\n",
    "                else:\n",
    "                    current_protein = line\n",
    "                aa_counter = 0\n",
    "            else:\n",
    "                for i in range(len(amino_acid_list)):\n",
    "                    stripped_line = line.strip(\"\\n\")\n",
    "                    count_single_AA_list = re.findall(amino_acid_list[i], stripped_line)\n",
    "                    aa_counter += len(count_single_AA_list)\n",
    "    longest_shortest = [longest, shortest]\n",
    "    return longest_shortest"
   ]
  },
  {
   "cell_type": "code",
   "execution_count": 20,
   "metadata": {},
   "outputs": [],
   "source": [
    "def open_and_parse_fasta_file_func (path_dir, file_name):\n",
    "    amino_acid_list = [\"G\",\"A\",\"L\",\"M\",\"F\",\"W\",\"K\",\"Q\",\"E\",\"S\",\"P\",\"V\",\"I\",\"C\",\"Y\",\"H\",\"R\",\"N\",\"D\",\"T\"]\n",
    "    counter_list = [0] * 20\n",
    "    \n",
    "    parent_path = Path(path_dir)\n",
    "    parent_path = parent_path.parents[0]\n",
    "    new_path = str(parent_path) + \"\\\\\" + file_name + \".csv\"\n",
    "    new_path_2 = str(parent_path) + \"\\\\\" + file_name + \".png\"\n",
    "    #output_df = pd.Dataframe(columns = [\"AminoAcids\":amino_acid_list,\"Counter\":zero_list])\n",
    "    with open(path_dir) as input_data:\n",
    "        for line in input_data:\n",
    "            if line.startswith(\">\"):\n",
    "                a = 0\n",
    "            else:\n",
    "                for i in range(len(amino_acid_list)):\n",
    "                    stripped_line = line.strip(\"\\n\")\n",
    "                    count_single_AA_list = re.findall(amino_acid_list[i], stripped_line)\n",
    "                    counter_list[i] += len(count_single_AA_list)\n",
    "    #Create and save the new file     \n",
    "    with open(new_path, 'w', newline='') as myfile:\n",
    "     wr = csv.writer(myfile)\n",
    "     name_list = [\"AminoAcids\", \"counter\"]\n",
    "     wr.writerow(name_list)\n",
    "     for i in range(len(amino_acid_list)):\n",
    "         #write_string = amino_acid_list[i] + \", \" + str(counter_list[i])\n",
    "         wr.writerow([amino_acid_list[i], counter_list[i]])\n",
    "    \n",
    "    data_df = pd.DataFrame({\"AA\":amino_acid_list, \"counter\":counter_list})\n",
    "\n",
    "    #Plot the Barplot\n",
    "    plt.bar(amino_acid_list, counter_list, color ='maroon',\n",
    "        width = 0.4)\n",
    " \n",
    "    plt.xlabel(\"AA\")\n",
    "    plt.ylabel(\"Counts\")\n",
    "    plt.title(\"Barplot_\" + file_name)    \n",
    "    plt.savefig(new_path_2)\n",
    "    plt.show()\n",
    "\n"
   ]
  },
  {
   "cell_type": "code",
   "execution_count": 21,
   "metadata": {},
   "outputs": [],
   "source": [
    "def get_hydrophobic_hydrophic (path_dir):\n",
    "    amino_acid_list = [\"I\",\"V\",\t\"L\", \t\"F\", \t\"C\", \t\"M\", \t\"A\", \t\"W\",\t\"G\", \t\"T\", \t\"S\", \t\"Y\", \t\"P\", \t\"H\", \t\"N\", \t\"D\", \t\"Q\", \t\"E\", \t\"K\", \t\"R\"]\n",
    "    aa_hydropathy_list = [4.5, 4.2, 3.8, 2.8, 2.5, 1.9, 1.8, -0.9, -0.4, -0.7, -0.8, -1.3, -1.6, -3.2, -3.5, -3.5, -3.5, -3.5, -3.9, -4.5]\n",
    "    hydropathy_counter = 0\n",
    "    hydrophic = ()\n",
    "    hydrophobic = ()\n",
    "    counter_list = [0] * 20\n",
    "    \n",
    "    \n",
    "    #output_df = pd.Dataframe(columns = [\"AminoAcids\":amino_acid_list,\"Counter\":zero_list])\n",
    "    with open(path_dir) as input_data:\n",
    "        for line in input_data:\n",
    "            if line.startswith(\">\"):                \n",
    "                                \n",
    "                if len(hydrophic) == 0:\n",
    "                    current_protein = line\n",
    "                    hydrophobic = (current_protein, hydropathy_counter)\n",
    "                    hydrophic = (current_protein, hydropathy_counter)\n",
    "                else:\n",
    "                    hydropathy_counter = sum([a * b for a, b in zip(aa_hydropathy_list, counter_list)])\n",
    "                    if hydropathy_counter < hydrophic[1]:\n",
    "                        hydrophic = (current_protein, hydropathy_counter)\n",
    "                    if hydropathy_counter > hydrophobic[1]:\n",
    "                        hydrophobic = (current_protein, hydropathy_counter)\n",
    "                    current_protein = line  \n",
    "                \n",
    "                \n",
    "            \n",
    "                hydropathy_counter = 0\n",
    "                counter_list = [0] * 20\n",
    "            else:\n",
    "                for i in range(len(amino_acid_list)):\n",
    "                    stripped_line = line.strip(\"\\n\")\n",
    "                    count_single_AA_list = re.findall(amino_acid_list[i], stripped_line)\n",
    "                    counter_list[i] += len(count_single_AA_list)\n",
    "    hydrophobic_hydrophic = [hydrophobic, hydrophic]\n",
    "    return hydrophobic_hydrophic"
   ]
  },
  {
   "cell_type": "code",
   "execution_count": 22,
   "metadata": {},
   "outputs": [
    {
     "data": {
      "image/png": "[encoded data removed]",
      "text/plain": [
       "<Figure size 432x288 with 1 Axes>"
      ]
     },
     "metadata": {
      "needs_background": "light"
     },
     "output_type": "display_data"
    },
    {
     "data": {
      "image/png": "[encoded data removed]",
      "text/plain": [
       "<Figure size 432x288 with 1 Axes>"
      ]
     },
     "metadata": {
      "needs_background": "light"
     },
     "output_type": "display_data"
    },
    {
     "data": {
      "image/png": "[encoded data removed]",
      "text/plain": [
       "<Figure size 432x288 with 1 Axes>"
      ]
     },
     "metadata": {
      "needs_background": "light"
     },
     "output_type": "display_data"
    },
    {
     "data": {
      "image/png": "[encoded data removed]",
      "text/plain": [
       "<Figure size 432x288 with 1 Axes>"
      ]
     },
     "metadata": {
      "needs_background": "light"
     },
     "output_type": "display_data"
    },
    {
     "data": {
      "image/png": "[encoded data removed]",
      "text/plain": [
       "<Figure size 432x288 with 1 Axes>"
      ]
     },
     "metadata": {
      "needs_background": "light"
     },
     "output_type": "display_data"
    }
   ],
   "source": [
    "open_and_parse_fasta_file_func(\"D:\\EIGENE DATEIEN\\Documents\\!UNI\\Coding\\Advanced Python\\Exercise_1\\human_2.fasta\", \"human_2\")\n",
    "open_and_parse_fasta_file_func(\"D:\\EIGENE DATEIEN\\Documents\\!UNI\\Coding\\Advanced Python\\Exercise_1\\Arabi.fasta\", \"Arabi\")\n",
    "open_and_parse_fasta_file_func(\"D:\\EIGENE DATEIEN\\Documents\\!UNI\\Coding\\Advanced Python\\Exercise_1\\EColi.fasta\", \"EColi\")\n",
    "open_and_parse_fasta_file_func(\"D:\\EIGENE DATEIEN\\Documents\\!UNI\\Coding\\Advanced Python\\Exercise_1\\methanospirillum.fasta\", \"methanospirillum\")\n",
    "open_and_parse_fasta_file_func(\"D:\\EIGENE DATEIEN\\Documents\\!UNI\\Coding\\Advanced Python\\Exercise_1\\mouse.fasta\", \"mouse\")"
   ]
  },
  {
   "cell_type": "code",
   "execution_count": 23,
   "metadata": {},
   "outputs": [],
   "source": [
    "def get_extremes_density (file_name):\n",
    "    directory = pathlib.Path().resolve()\n",
    "    aa_properties_path = str(directory) + \"/amino_acid_properties.csv\"\n",
    "    aa_properties_path = pathlib.Path(aa_properties_path)\n",
    "    aa_properties_df = pd.read_csv(aa_properties_path)\n",
    "\n",
    "    protein_path = str(directory) + \"/\" + file_name\n",
    "    protein_path = pathlib.Path(protein_path)\n",
    "    \n",
    "    amino_acid_list = aa_properties_df[\"1-letter code\"]\n",
    "    aa_mw_list = aa_properties_df[\"Molecular Weight\"]\n",
    "    mw_counter = 0\n",
    "    low_mw = ()\n",
    "    high_mw = ()\n",
    "    counter_list = [0] * 20\n",
    "    \n",
    "    \n",
    "    #output_df = pd.Dataframe(columns = [\"AminoAcids\":amino_acid_list,\"Counter\":zero_list])\n",
    "    with open(protein_path) as input_data:\n",
    "        for line in input_data:\n",
    "            if line.startswith(\">\"):                \n",
    "                                \n",
    "                if len(low_mw) == 0:\n",
    "                    current_protein = line\n",
    "                    high_mw = (current_protein, mw_counter)\n",
    "                    low_mw = (current_protein, mw_counter)\n",
    "                    first_protein = True\n",
    "                else:\n",
    "                    if first_protein == True:\n",
    "                        mw_counter = sum([a * b for a, b in zip(aa_mw_list, counter_list)])\n",
    "                        mw_counter = mw_counter/sum(counter_list)\n",
    "                        high_mw = (current_protein, mw_counter)\n",
    "                        low_mw = (current_protein, mw_counter)\n",
    "                        first_protein = False\n",
    "                    else:\n",
    "                        mw_counter = sum([a * b for a, b in zip(aa_mw_list, counter_list)])\n",
    "                        mw_counter = mw_counter/sum(counter_list)\n",
    "                        if mw_counter < low_mw[1]:\n",
    "                            low_mw = (current_protein, mw_counter)\n",
    "                        if mw_counter > high_mw[1]:\n",
    "                            high_mw = (current_protein, mw_counter)\n",
    "                        current_protein = line  \n",
    "                \n",
    "                \n",
    "                mw_counter = 0\n",
    "                counter_list = [0] * 20\n",
    "            else:\n",
    "                for i in range(len(amino_acid_list)):\n",
    "                    stripped_line = line.strip(\"\\n\")\n",
    "                    count_single_AA_list = re.findall(amino_acid_list[i], stripped_line)\n",
    "                    counter_list[i] += len(count_single_AA_list)\n",
    "    high_mw_low_mw = [high_mw, low_mw]\n",
    "    return high_mw_low_mw\n",
    "\n",
    "def get_extremes_pI (file_name):\n",
    "    directory = pathlib.Path().resolve()\n",
    "    aa_properties_path = str(directory) + \"/amino_acid_properties.csv\"\n",
    "    aa_properties_path = pathlib.Path(aa_properties_path)\n",
    "    aa_properties_df = pd.read_csv(aa_properties_path)\n",
    "\n",
    "    protein_path = str(directory) + \"/\" + file_name\n",
    "    protein_path = pathlib.Path(protein_path)\n",
    "    \n",
    "    amino_acid_list = aa_properties_df[\"1-letter code\"]\n",
    "    aa_mw_list = aa_properties_df[\"pI\"]\n",
    "    mw_counter = 0\n",
    "    low_mw = ()\n",
    "    high_mw = ()\n",
    "    counter_list = [0] * 20\n",
    "    \n",
    "    \n",
    "    #output_df = pd.Dataframe(columns = [\"AminoAcids\":amino_acid_list,\"Counter\":zero_list])\n",
    "    with open(protein_path) as input_data:\n",
    "        for line in input_data:\n",
    "            if line.startswith(\">\"):                \n",
    "                                \n",
    "                if len(low_mw) == 0:\n",
    "                    current_protein = line\n",
    "                    high_mw = (current_protein, mw_counter)\n",
    "                    low_mw = (current_protein, mw_counter)\n",
    "                    first_protein = True\n",
    "                else:\n",
    "                    if first_protein == True:\n",
    "                        mw_counter = sum([a * b for a, b in zip(aa_mw_list, counter_list)])\n",
    "                        high_mw = (current_protein, mw_counter)\n",
    "                        low_mw = (current_protein, mw_counter)\n",
    "                        first_protein = False\n",
    "                    else:\n",
    "                        mw_counter = sum([a * b for a, b in zip(aa_mw_list, counter_list)])\n",
    "                        mw_counter = mw_counter/sum(counter_list)\n",
    "                        if mw_counter < low_mw[1]:\n",
    "                            low_mw = (current_protein, mw_counter)\n",
    "                        if mw_counter > high_mw[1]:\n",
    "                            high_mw = (current_protein, mw_counter)\n",
    "                        current_protein = line  \n",
    "                \n",
    "                \n",
    "                mw_counter = 0\n",
    "                counter_list = [0] * 20\n",
    "            else:\n",
    "                for i in range(len(amino_acid_list)):\n",
    "                    stripped_line = line.strip(\"\\n\")\n",
    "                    count_single_AA_list = re.findall(amino_acid_list[i], stripped_line)\n",
    "                    counter_list[i] += len(count_single_AA_list)\n",
    "    high_mw_low_mw = [high_mw, low_mw]\n",
    "    return high_mw_low_mw\n",
    "\n"
   ]
  },
  {
   "cell_type": "code",
   "execution_count": 24,
   "metadata": {},
   "outputs": [
    {
     "name": "stdout",
     "output_type": "stream",
     "text": [
      "[('>sp|Q8WZ42|TITIN_HUMAN Titin OS=Homo sapiens OX=9606 GN=TTN PE=1 SV=4\\n', 34350), ('>sp|P0DPR3|TRDD1_HUMAN T cell receptor delta diversity 1 OS=Homo sapiens OX=9606 GN=TRDD1 PE=1 SV=1\\n', 2)]\n",
      "[('>sp|A0A1P8AUY4|MDN1_ARATH Midasin OS=Arabidopsis thaliana OX=3702 GN=MDN1 PE=1 SV=1\\n', 5400), ('>sp|P0DKJ0|P160B_ARATH Peptide encoded by miPEP160b OS=Arabidopsis thaliana OX=3702 GN=miPEP160b PE=4 SV=1\\n', 5)]\n",
      "[('>sp|P0DSI1|CDIA_ECONC tRNA nuclease CdiA OS=Escherichia coli (strain NC101) OX=753642 GN=cdiA PE=1 SV=1\\n', 3289), ('>sp|Q47505|MCCC7_ECOLX Microcin C7 OS=Escherichia coli OX=562 GN=mccA PE=1 SV=1\\n', 7)]\n"
     ]
    }
   ],
   "source": [
    "print(get_longest_shortest(\"D:\\EIGENE DATEIEN\\Documents\\!UNI\\Coding\\Advanced Python\\Exercise_1\\human_2.fasta\"))\n",
    "print(get_longest_shortest(\"D:\\EIGENE DATEIEN\\Documents\\!UNI\\Coding\\Advanced Python\\Exercise_1\\Arabi.fasta\"))\n",
    "print(get_longest_shortest(\"D:\\EIGENE DATEIEN\\Documents\\!UNI\\Coding\\Advanced Python\\Exercise_1\\EColi.fasta\"))"
   ]
  },
  {
   "cell_type": "code",
   "execution_count": 25,
   "metadata": {},
   "outputs": [
    {
     "name": "stdout",
     "output_type": "stream",
     "text": [
      "[('>sp|P15502|ELN_HUMAN Elastin OS=Homo sapiens OX=9606 GN=ELN PE=1 SV=4\\n', 491.70000000000005), ('>sp|Q8WZ42|TITIN_HUMAN Titin OS=Homo sapiens OX=9606 GN=TTN PE=1 SV=4\\n', -16063.900000000003)]\n"
     ]
    }
   ],
   "source": [
    "print(get_hydrophobic_hydrophic(\"D:\\EIGENE DATEIEN\\Documents\\!UNI\\Coding\\Advanced Python\\Exercise_1\\human_2.fasta\"))"
   ]
  },
  {
   "cell_type": "code",
   "execution_count": 26,
   "metadata": {},
   "outputs": [
    {
     "name": "stdout",
     "output_type": "stream",
     "text": [
      "[('>sp|P62945|RL41_HUMAN 60S ribosomal protein L41 OS=Homo sapiens OX=9606 GN=RPL41 PE=1 SV=1\\n', 155.54840000000002), ('>sp|P0DPI4|TDB01_HUMAN T cell receptor beta diversity 1 OS=Homo sapiens OX=9606 GN=TRBD1 PE=4 SV=1\\n', 86.0825)]\n"
     ]
    }
   ],
   "source": [
    "print(get_extremes_density(\"human_2.fasta\"))"
   ]
  },
  {
   "cell_type": "code",
   "execution_count": 27,
   "metadata": {},
   "outputs": [
    {
     "name": "stdout",
     "output_type": "stream",
     "text": [
      "[('>sp|Q00266|METK1_HUMAN S-adenosylmethionine synthase isoform type-1 OS=Homo sapiens OX=9606 GN=MAT1A PE=1 SV=2\\n', 2371.1), ('>sp|P0DPR3|TRDD1_HUMAN T cell receptor delta diversity 1 OS=Homo sapiens OX=9606 GN=TRDD1 PE=1 SV=1\\n', 4.62)]\n"
     ]
    }
   ],
   "source": [
    "\n",
    "print(get_extremes_pI(\"human_2.fasta\"))"
   ]
  }
 ],
 "metadata": {
  "interpreter": {
   "hash": "155d4da6f18a758acb8ce1ea013de05ea269d559065ab64d489122ace41ba775"
  },
  "kernelspec": {
   "display_name": "Python 3.9.8 64-bit ('.venv': venv)",
   "language": "python",
   "name": "python3"
  },
  "language_info": {
   "codemirror_mode": {
    "name": "ipython",
    "version": 3
   },
   "file_extension": ".py",
   "mimetype": "text/x-python",
   "name": "python",
   "nbconvert_exporter": "python",
   "pygments_lexer": "ipython3",
   "version": "3.9.9"
  },
  "orig_nbformat": 4
 },
 "nbformat": 4,
 "nbformat_minor": 2
}
