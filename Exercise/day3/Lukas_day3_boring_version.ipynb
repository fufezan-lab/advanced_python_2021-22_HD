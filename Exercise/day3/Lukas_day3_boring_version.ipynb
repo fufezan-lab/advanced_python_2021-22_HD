{
 "cells": [
  {
   "cell_type": "code",
   "execution_count": 64,
   "metadata": {},
   "outputs": [],
   "source": [
    "import csv\n",
    "import re\n",
    "import pandas as pd\n",
    "from pathlib import Path\n",
    "import matplotlib.pyplot as plt\n",
    "import math"
   ]
  },
  {
   "cell_type": "code",
   "execution_count": 65,
   "metadata": {},
   "outputs": [],
   "source": [
    "def create_data_stucture(map_data_file):\n",
    "    \"\"\"Create a data structure from a data_file that allows rapid quering positions on the map\n",
    "\n",
    "    Args:\n",
    "        map_data_file (Path) csv file with the following columns:\n",
    "            city,lat,lng,country,iso3,local_name,population,continent\n",
    "\n",
    "    Returns\n",
    "        data_structure that can be used with find_closest_cities\n",
    "\n",
    "    HINT:\n",
    "       Binary space partitioning buildup using recursive functions\n",
    "    \"\"\"\n",
    "    cities_df = pd.read_csv(map_data_file)\n",
    "    return cities_df"
   ]
  },
  {
   "cell_type": "code",
   "execution_count": 66,
   "metadata": {},
   "outputs": [],
   "source": [
    "def find_closest_cities(point, data_structure):\n",
    "    \"\"\"Find ten close cities to the given point on the world given the data structure\n",
    "    \n",
    "    Args:\n",
    "        point (tuple of floats) latitude and longitude\n",
    "    \n",
    "        data_structure (you choose) to be queries using the point\n",
    "\n",
    "    Returns:\n",
    "        list of 10 cities that are closest to the point \n",
    "    \"\"\"\n",
    "    distance_list = []\n",
    "    for lat,lng in zip(data_structure['lat'].tolist(), data_structure['lng'].tolist()) :\n",
    "        distance_list.append(math.dist(point,(lat,lng))) \n",
    "    data_structure['Distance'] = distance_list\n",
    "    data_structure = data_structure.sort_values(by = \"Distance\")\n",
    "    closest_10_cities = data_structure.head(10)\n",
    "    return closest_10_cities"
   ]
  },
  {
   "cell_type": "code",
   "execution_count": 67,
   "metadata": {},
   "outputs": [
    {
     "name": "stdout",
     "output_type": "stream",
     "text": [
      "                       city      lat     lng  country iso3         local_name  \\\n",
      "7863              Eppelheim  49.4011  8.6297  Germany  DEU  Baden-Württemberg   \n",
      "3326             Heidelberg  49.4122  8.7100  Germany  DEU  Baden-Württemberg   \n",
      "24877            Dossenheim  49.4492  8.6722  Germany  DEU  Baden-Württemberg   \n",
      "16748                Leimen  49.3481  8.6911  Germany  DEU  Baden-Württemberg   \n",
      "22591            Sandhausen  49.3439  8.6581  Germany  DEU  Baden-Württemberg   \n",
      "23015           Schriesheim  49.4736  8.6592  Germany  DEU  Baden-Württemberg   \n",
      "30103            Edingerhof  49.4483  8.6121  Germany  DEU  Baden-Württemberg   \n",
      "26956            Plankstadt  49.3933  8.5942  Germany  DEU  Baden-Württemberg   \n",
      "23129  Edingen-Neckarhausen  49.4469  8.6094  Germany  DEU  Baden-Württemberg   \n",
      "26185               Nußloch  49.3236  8.6939  Germany  DEU  Baden-Württemberg   \n",
      "\n",
      "       population continent  Distance  \n",
      "7863      15177.0    Europe  0.040315  \n",
      "3326     160355.0    Europe  0.041819  \n",
      "24877     12515.0    Europe  0.049249  \n",
      "16748     26968.0    Europe  0.056025  \n",
      "22591     15105.0    Europe  0.057348  \n",
      "23015     15081.0    Europe  0.074388  \n",
      "30103      8128.0    Europe  0.075401  \n",
      "26956     10321.0    Europe  0.076096  \n",
      "23129     14238.0    Europe  0.076629  \n",
      "26185     11325.0    Europe  0.080051  \n"
     ]
    }
   ],
   "source": [
    "point = (49.4, 8.67)\n",
    "file_dir = Path(\"D:/EIGENE DATEIEN/Documents/!UNI/Coding/Advanced Python/advanced_python_2021-22_HD-1/data/cities.csv\")\n",
    "data_structure = create_data_stucture(file_dir)\n",
    "print(find_closest_cities(point, data_structure))"
   ]
  }
 ],
 "metadata": {
  "interpreter": {
   "hash": "155d4da6f18a758acb8ce1ea013de05ea269d559065ab64d489122ace41ba775"
  },
  "kernelspec": {
   "display_name": "Python 3.9.8 64-bit ('.venv': venv)",
   "language": "python",
   "name": "python3"
  },
  "language_info": {
   "codemirror_mode": {
    "name": "ipython",
    "version": 3
   },
   "file_extension": ".py",
   "mimetype": "text/x-python",
   "name": "python",
   "nbconvert_exporter": "python",
   "pygments_lexer": "ipython3",
   "version": "3.9.9"
  },
  "orig_nbformat": 4
 },
 "nbformat": 4,
 "nbformat_minor": 2
}
